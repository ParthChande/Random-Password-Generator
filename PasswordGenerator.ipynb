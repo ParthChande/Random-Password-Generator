{
 "cells": [
  {
   "cell_type": "code",
   "execution_count": 1,
   "id": "25bfc3fd-9c5d-4adb-a9d3-b012792f87f4",
   "metadata": {},
   "outputs": [
    {
     "name": "stdin",
     "output_type": "stream",
     "text": [
      "How many passwords do you want to generate?  2\n"
     ]
    },
    {
     "name": "stdout",
     "output_type": "stream",
     "text": [
      "Generating 2 passwords\n",
      "Minimum length of password should be 3\n"
     ]
    },
    {
     "name": "stdin",
     "output_type": "stream",
     "text": [
      "Enter the length of Password #1:  4\n",
      "Enter the length of Password #2:  6\n"
     ]
    },
    {
     "name": "stdout",
     "output_type": "stream",
     "text": [
      "Password #1: 6lWO\n",
      "Password #2: rx3byD\n"
     ]
    }
   ],
   "source": [
    "import random\n",
    "import string\n",
    "\n",
    "def generatePassword(pwlengths):\n",
    "    passwords = []\n",
    "\n",
    "    for length in pwlengths:\n",
    "        password = ''.join(random.choice(string.ascii_lowercase) for _ in range(length))\n",
    "        password = replaceWithNumber(password)\n",
    "        password = replaceWithUppercaseLetter(password)\n",
    "        passwords.append(password)\n",
    "\n",
    "    return passwords\n",
    "\n",
    "def replaceWithNumber(pword):\n",
    "    for _ in range(random.randint(1, 3)):  # Randomly replace 1 to 3 characters with numbers\n",
    "        replace_index = random.randrange(len(pword) // 2)\n",
    "        pword = pword[:replace_index] + str(random.randint(0, 9)) + pword[replace_index + 1:]\n",
    "    return pword\n",
    "\n",
    "def replaceWithUppercaseLetter(pword):\n",
    "    for _ in range(random.randint(1, 3)):  # Randomly replace 1 to 3 characters with uppercase letters\n",
    "        replace_index = random.randrange(len(pword) // 2, len(pword))\n",
    "        pword = pword[:replace_index] + pword[replace_index].upper() + pword[replace_index + 1:]\n",
    "    return pword\n",
    "\n",
    "def main():\n",
    "    try:\n",
    "        numPasswords = int(input(\"How many passwords do you want to generate? \"))\n",
    "        print(f\"Generating {numPasswords} passwords\")\n",
    "\n",
    "        passwordLengths = []\n",
    "        print(\"Minimum length of password should be 3\")\n",
    "\n",
    "        for i in range(numPasswords):\n",
    "            length = int(input(f\"Enter the length of Password #{i + 1}: \"))\n",
    "            if length < 3:\n",
    "                length = 3\n",
    "            passwordLengths.append(length)\n",
    "\n",
    "        passwords = generatePassword(passwordLengths)\n",
    "\n",
    "        for i, password in enumerate(passwords):\n",
    "            print(f\"Password #{i + 1}: {password}\")\n",
    "\n",
    "    except ValueError:\n",
    "        print(\"Please enter a valid number.\")\n",
    "\n",
    "if __name__ == \"__main__\":\n",
    "    main()\n"
   ]
  },
  {
   "cell_type": "code",
   "execution_count": null,
   "id": "47d79421-3335-4593-99b1-470aea0630da",
   "metadata": {},
   "outputs": [],
   "source": []
  }
 ],
 "metadata": {
  "kernelspec": {
   "display_name": "Python 3 (ipykernel)",
   "language": "python",
   "name": "python3"
  },
  "language_info": {
   "codemirror_mode": {
    "name": "ipython",
    "version": 3
   },
   "file_extension": ".py",
   "mimetype": "text/x-python",
   "name": "python",
   "nbconvert_exporter": "python",
   "pygments_lexer": "ipython3",
   "version": "3.8.10"
  }
 },
 "nbformat": 4,
 "nbformat_minor": 5
}
